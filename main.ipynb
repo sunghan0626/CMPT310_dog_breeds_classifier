{
 "cells": [
  {
   "cell_type": "code",
   "execution_count": 1,
   "id": "e17025e8",
   "metadata": {},
   "outputs": [],
   "source": [
    "import os\n",
    "import cv2\n",
    "import numpy as np\n",
    "import random\n",
    "from glob import glob\n",
    "from tqdm.notebook import tqdm\n",
    "from PIL import Image\n",
    "import torch\n",
    "import torch.nn as nn\n",
    "import torch.optim as optim\n",
    "from torch.utils.data import DataLoader\n",
    "from torchvision import transforms, datasets\n",
    "import matplotlib.pyplot as plt"
   ]
  },
  {
   "cell_type": "code",
   "execution_count": 2,
   "id": "3c37a8dd",
   "metadata": {},
   "outputs": [],
   "source": [
    "DATA_DIR = \"data/stanford_dogs/Images\"\n",
    "OUTPUT_DIR = \"data/Processed\"\n",
    "IMG_SIZE = (224, 224)\n",
    "BATCH_SIZE = 32\n",
    "EPOCHS = 5\n",
    "LR = 0.001\n",
    "\n",
    "mean = [0.485, 0.456, 0.406]\n",
    "std = [0.229, 0.224, 0.225]"
   ]
  },
  {
   "cell_type": "code",
   "execution_count": 3,
   "id": "bd8d658d",
   "metadata": {},
   "outputs": [],
   "source": [
    "def load_dataset(data_dir):\n",
    "    all_paths = glob(os.path.join(data_dir, \"*\", \"*.jpg\"))\n",
    "    all_labels = [os.path.basename(os.path.dirname(p)) for p in all_paths]\n",
    "    return all_paths, all_labels"
   ]
  },
  {
   "cell_type": "code",
   "execution_count": 4,
   "id": "68e7e6b6",
   "metadata": {},
   "outputs": [],
   "source": [
    "def resize_image(image, target_size=IMG_SIZE):\n",
    "    return cv2.resize(image, target_size, interpolation=cv2.INTER_AREA)\n",
    "\n",
    "def normalize_image(image):\n",
    "    return image.astype(np.float32) / 255.0\n",
    "\n",
    "def preprocess_image(path, target_size=IMG_SIZE, to_rgb=True, normalize=True):\n",
    "    img = cv2.imread(path)\n",
    "    if img is None:\n",
    "        return None\n",
    "    if to_rgb:\n",
    "        img = cv2.cvtColor(img, cv2.COLOR_BGR2RGB)\n",
    "    img = resize_image(img, target_size)\n",
    "    if normalize:\n",
    "        img = normalize_image(img)\n",
    "    return img"
   ]
  },
  {
   "cell_type": "code",
   "execution_count": 5,
   "id": "0eb1392c",
   "metadata": {},
   "outputs": [],
   "source": [
    "class AddGaussianNoise(object):\n",
    "    def __init__(self, mean=0., std=0.05):\n",
    "        self.mean = mean\n",
    "        self.std = std\n",
    "\n",
    "    def __call__(self, tensor):\n",
    "        return tensor + torch.randn(tensor.size()) * self.std + self.mean\n",
    "\n",
    "    def __repr__(self):\n",
    "        return f\"{self.__class__.__name__}(mean={self.mean}, std={self.std})\""
   ]
  },
  {
   "cell_type": "code",
   "execution_count": 6,
   "id": "d72a42c3",
   "metadata": {},
   "outputs": [],
   "source": [
    "final_transform = transforms.Compose([\n",
    "    transforms.ToTensor(),\n",
    "    transforms.RandomApply([transforms.GaussianBlur(kernel_size=5)], p=0.3),\n",
    "    transforms.RandomApply([AddGaussianNoise(0., 0.1)], p=0.3),\n",
    "    transforms.RandomApply([transforms.RandomErasing(p=1.0, scale=(0.1, 0.2))], p=0.3),\n",
    "    transforms.RandomHorizontalFlip(p=0.5),\n",
    "    transforms.RandomVerticalFlip(p=0.3),\n",
    "    transforms.RandomRotation(degrees=15),\n",
    "    transforms.RandomAffine(degrees=0, translate=(0.1, 0.1), scale=(0.8, 1.2)),\n",
    "    transforms.RandomResizedCrop(size=(224, 224), scale=(0.8, 1.0)),\n",
    "    transforms.ColorJitter(brightness=0.3, contrast=0.3, saturation=0.3, hue=0.05),\n",
    "    transforms.RandomGrayscale(p=0.2),\n",
    "    transforms.RandomAdjustSharpness(sharpness_factor=2.0, p=0.5),\n",
    "    transforms.Normalize(mean, std)\n",
    "])"
   ]
  },
  {
   "cell_type": "code",
   "execution_count": 7,
   "id": "80f23cb3",
   "metadata": {},
   "outputs": [],
   "source": [
    "def split_and_save_dataset(image_paths, labels):\n",
    "    os.makedirs(OUTPUT_DIR, exist_ok=True)\n",
    "    SPLIT_RATIOS = {\"train\": 0.7, \"validation\": 0.15, \"test\": 0.15}\n",
    "\n",
    "    class_to_paths = {}\n",
    "    for path, label in zip(image_paths, labels):\n",
    "        class_to_paths.setdefault(label, []).append(path)\n",
    "\n",
    "    path_to_split = {}\n",
    "    for label, paths in class_to_paths.items():\n",
    "        random.shuffle(paths)\n",
    "        total = len(paths)\n",
    "        train_end = int(SPLIT_RATIOS[\"train\"] * total)\n",
    "        val_end = train_end + int(SPLIT_RATIOS[\"validation\"] * total)\n",
    "        for i, path in enumerate(paths):\n",
    "            if i < train_end:\n",
    "                path_to_split[path] = \"train\"\n",
    "            elif i < val_end:\n",
    "                path_to_split[path] = \"validation\"\n",
    "            else:\n",
    "                path_to_split[path] = \"test\"\n",
    "\n",
    "    for split in SPLIT_RATIOS.keys():\n",
    "        for label in class_to_paths:\n",
    "            os.makedirs(os.path.join(OUTPUT_DIR, split, label), exist_ok=True)\n",
    "\n",
    "    for path, label in tqdm(zip(image_paths, labels), total=len(image_paths), desc=\"Preprocessing\"):\n",
    "        img = preprocess_image(path)\n",
    "        if img is None:\n",
    "            print(f\"[READ FAIL] {path}\")\n",
    "            continue\n",
    "        save_img = (img * 255).astype(np.uint8)\n",
    "        save_img = cv2.cvtColor(save_img, cv2.COLOR_RGB2BGR)\n",
    "        split = path_to_split.get(path, \"train\")\n",
    "        save_dir = os.path.join(OUTPUT_DIR, split, label)\n",
    "        cv2.imwrite(os.path.join(save_dir, os.path.basename(path)), save_img)"
   ]
  },
  {
   "cell_type": "code",
   "execution_count": 8,
   "id": "9226df9d",
   "metadata": {},
   "outputs": [],
   "source": [
    "def visualize_sample(image_path):\n",
    "    img_cv2 = cv2.imread(image_path)\n",
    "    img_rgb = cv2.cvtColor(img_cv2, cv2.COLOR_BGR2RGB)\n",
    "    img_pil = Image.fromarray(img_rgb)\n",
    "    img_tensor = final_transform(img_pil)\n",
    "    img_np = img_tensor.permute(1, 2, 0).numpy()\n",
    "    img_np = (img_np * std + mean).clip(0, 1)\n",
    "\n",
    "    import matplotlib.pyplot as plt\n",
    "    plt.figure(figsize=(6, 6))\n",
    "    plt.imshow(img_np)\n",
    "    plt.axis('off')\n",
    "    plt.title(\"Augmented Image\")\n",
    "    plt.show()"
   ]
  },
  {
   "cell_type": "code",
   "execution_count": 9,
   "id": "10297a2a",
   "metadata": {},
   "outputs": [],
   "source": [
    "# if __name__ == \"__main__\":\n",
    "#     image_paths, labels = load_dataset(DATA_DIR)\n",
    "#     visualize_sample(image_paths[0])"
   ]
  },
  {
   "cell_type": "code",
   "execution_count": 10,
   "id": "e2624907",
   "metadata": {},
   "outputs": [],
   "source": [
    "class BaselineCNN(nn.Module):\n",
    "    def __init__(self, num_classes):\n",
    "        super().__init__()\n",
    "        self.net = nn.Sequential(\n",
    "            nn.Conv2d(3, 32, kernel_size=3, padding=1),\n",
    "            nn.ReLU(),\n",
    "            nn.MaxPool2d(2),\n",
    "\n",
    "            nn.Conv2d(32, 64, kernel_size=3, padding=1),\n",
    "            nn.ReLU(),\n",
    "            nn.MaxPool2d(2),\n",
    "\n",
    "            nn.Conv2d(64, 128, kernel_size=3, padding=1),\n",
    "            nn.ReLU(),\n",
    "            nn.MaxPool2d(2),\n",
    "\n",
    "            nn.Flatten(),\n",
    "            nn.Linear(128 * 28 * 28, 256),\n",
    "            nn.ReLU(),\n",
    "            nn.Dropout(0.5),\n",
    "            nn.Linear(256, num_classes)\n",
    "        )\n",
    "\n",
    "    def forward(self, x):\n",
    "        return self.net(x)"
   ]
  },
  {
   "cell_type": "code",
   "execution_count": 11,
   "id": "29e3fa06",
   "metadata": {},
   "outputs": [],
   "source": [
    "def train_and_validate():\n",
    "    train_ds = datasets.ImageFolder(os.path.join(OUTPUT_DIR, 'train'), transform=final_transform)\n",
    "    val_ds = datasets.ImageFolder(os.path.join(OUTPUT_DIR, 'validation'), transform=final_transform)\n",
    "    \n",
    "    train_loader = DataLoader(train_ds, batch_size=BATCH_SIZE, shuffle=True)\n",
    "    val_loader = DataLoader(val_ds, batch_size=BATCH_SIZE)\n",
    "\n",
    "    model = BaselineCNN(num_classes=len(train_ds.classes)).to(\"cuda\" if torch.cuda.is_available() else \"cpu\")\n",
    "    criterion = nn.CrossEntropyLoss()\n",
    "    optimizer = optim.Adam(model.parameters(), lr=LR)\n",
    "\n",
    "    device = \"cuda\" if torch.cuda.is_available() else \"cpu\"\n",
    "\n",
    "    for epoch in range(EPOCHS):\n",
    "        model.train()\n",
    "        total_loss = 0\n",
    "        correct = 0\n",
    "        for x, y in train_loader:\n",
    "            x, y = x.to(device), y.to(device)\n",
    "            optimizer.zero_grad()\n",
    "            pred = model(x)\n",
    "            loss = criterion(pred, y)\n",
    "            loss.backward()\n",
    "            optimizer.step()\n",
    "\n",
    "            total_loss += loss.item()\n",
    "            correct += (pred.argmax(1) == y).sum().item()\n",
    "\n",
    "        acc = correct / len(train_ds)\n",
    "        print(f\"Epoch {epoch+1}, Loss: {total_loss:.4f}, Accuracy: {acc:.4f}\")\n",
    "\n",
    "    torch.save(model.state_dict(), \"baseline_cnn.pth\")\n",
    "    print(\"Model saved as baseline_cnn.pth\")"
   ]
  },
  {
   "cell_type": "code",
   "execution_count": null,
   "id": "8525561f",
   "metadata": {},
   "outputs": [],
   "source": [
    "image_paths, labels = load_dataset(DATA_DIR)\n",
    "split_and_save_dataset(image_paths, labels)"
   ]
  },
  {
   "cell_type": "code",
   "execution_count": null,
   "id": "ab889c7c",
   "metadata": {},
   "outputs": [],
   "source": [
    "train_and_validate()\n"
   ]
  }
 ],
 "metadata": {
  "kernelspec": {
   "display_name": "dogbreed",
   "language": "python",
   "name": "python3"
  },
  "language_info": {
   "codemirror_mode": {
    "name": "ipython",
    "version": 3
   },
   "file_extension": ".py",
   "mimetype": "text/x-python",
   "name": "python",
   "nbconvert_exporter": "python",
   "pygments_lexer": "ipython3",
   "version": "3.10.18"
  }
 },
 "nbformat": 4,
 "nbformat_minor": 5
}
