{
 "cells": [
  {
   "cell_type": "code",
   "execution_count": 2,
   "id": "e17025e8",
   "metadata": {},
   "outputs": [],
   "source": [
    "import os\n",
    "import cv2\n",
    "import numpy as np\n",
    "from glob import glob\n",
    "from tqdm.notebook import tqdm"
   ]
  },
  {
   "cell_type": "code",
   "execution_count": null,
   "id": "a3966d09",
   "metadata": {},
   "outputs": [],
   "source": []
  },
  {
   "cell_type": "code",
   "execution_count": 3,
   "id": "3c37a8dd",
   "metadata": {},
   "outputs": [],
   "source": [
    "DATA_DIR = \"data/stanford_dogs/Images\"\n",
    "OUTPUT_DIR = \"data/Processed\"\n",
    "IMG_SIZE = (224, 224)"
   ]
  },
  {
   "cell_type": "code",
   "execution_count": 4,
   "id": "bd8d658d",
   "metadata": {},
   "outputs": [],
   "source": [
    "def load_dataset(data_dir):\n",
    "    all_paths = glob(os.path.join(data_dir, \"*\", \"*.jpg\"))\n",
    "    all_labels = [os.path.basename(os.path.dirname(p)) for p in all_paths]\n",
    "    return all_paths, all_labels\n",
    "\n",
    "# image_paths, labels = load_dataset(DATA_DIR)\n",
    "# print(f\"Found {len(image_paths)} images\")"
   ]
  },
  {
   "cell_type": "code",
   "execution_count": 5,
   "id": "68e7e6b6",
   "metadata": {},
   "outputs": [],
   "source": [
    "def resize_image(image, target_size=IMG_SIZE):\n",
    "    \"\"\"Resize the image to the target size.\"\"\"\n",
    "    return cv2.resize(image, target_size, interpolation=cv2.INTER_AREA)"
   ]
  },
  {
   "cell_type": "code",
   "execution_count": 6,
   "id": "8c39368f",
   "metadata": {},
   "outputs": [],
   "source": [
    "def normalize_image(image):\n",
    "    \"\"\"Normalize image pixel values to the range [0.0, 1.0].\"\"\"\n",
    "    return image.astype(np.float32) / 255.0"
   ]
  },
  {
   "cell_type": "code",
   "execution_count": 7,
   "id": "9b5ec638",
   "metadata": {},
   "outputs": [],
   "source": [
    "\n",
    "def preprocess_image(path,\n",
    "                     target_size=IMG_SIZE,\n",
    "                     to_rgb=True,\n",
    "                     normalize=True):\n",
    "    \"\"\"\n",
    "    Load and preprocess an image from a given path:\n",
    "    1) Read image file\n",
    "    2) Convert BGR to RGB (if enabled)\n",
    "    3) Resize to target size\n",
    "    4) Normalize pixel values (if enabled)\n",
    "    Returns the processed image or None if loading fails.\n",
    "    \"\"\"\n",
    "    img = cv2.imread(path)\n",
    "    if img is None:\n",
    "        return None\n",
    "\n",
    "    if to_rgb:\n",
    "        img = cv2.cvtColor(img, cv2.COLOR_BGR2RGB)\n",
    "\n",
    "    img = resize_image(img, target_size)\n",
    "\n",
    "    if normalize:\n",
    "        img = normalize_image(img)\n",
    "\n",
    "    return img"
   ]
  },
  {
   "cell_type": "code",
   "execution_count": 8,
   "id": "80f23cb3",
   "metadata": {},
   "outputs": [
    {
     "name": "stdout",
     "output_type": "stream",
     "text": [
      "Found 20580 images\n"
     ]
    },
    {
     "data": {
      "application/vnd.jupyter.widget-view+json": {
       "model_id": "a718382a426d4ebeabeeafa4d72565e2",
       "version_major": 2,
       "version_minor": 0
      },
      "text/plain": [
       "Preprocessing:   0%|          | 0/20580 [00:00<?, ?it/s]"
      ]
     },
     "metadata": {},
     "output_type": "display_data"
    }
   ],
   "source": [
    "# os.makedirs(OUTPUT_DIR, exist_ok=True)\n",
    "\n",
    "# for path, label in tqdm(zip(image_paths, labels), total=len(image_paths)):\n",
    "#     image = cv2.imread(path)\n",
    "#     if image is None:\n",
    "#         continue\n",
    "    \n",
    "#      image = resize_image(image)\n",
    "#      image = normalize_image(image)\n",
    "#      image = preprocess_image(image)\n",
    "    \n",
    "#     save_path = os.path.join(OUTPUT_DIR, label)\n",
    "#     os.makedirs(save_path, exist_ok=True)\n",
    "#     filename = os.path.basename(path)\n",
    "    \n",
    "#     save_img = (np.clip(image, 0, 1) * 255).astype(np.uint8)\n",
    "#     cv2.imwrite(os.path.join(save_path, filename), save_img)\n",
    "if __name__ == \"__main__\":\n",
    "    image_paths, labels = load_dataset(DATA_DIR)\n",
    "    print(f\"Found {len(image_paths)} images\")\n",
    "\n",
    "    os.makedirs(OUTPUT_DIR, exist_ok=True)\n",
    "\n",
    "    for path, label in tqdm(zip(image_paths, labels), total=len(image_paths),\n",
    "                            desc=\"Preprocessing\"):\n",
    "        img = preprocess_image(path)\n",
    "        if img is None:\n",
    "            print(f\"[READ FAIL] {path}\")  # Warn if the image could not be read\n",
    "            continue\n",
    "\n",
    "        # Convert back to 0–255 and RGB→BGR before saving\n",
    "        save_img = (img * 255).astype(np.uint8)\n",
    "        save_img = cv2.cvtColor(save_img, cv2.COLOR_RGB2BGR)\n",
    "\n",
    "        save_dir = os.path.join(OUTPUT_DIR, label)\n",
    "        os.makedirs(save_dir, exist_ok=True)\n",
    "\n",
    "        cv2.imwrite(os.path.join(save_dir, os.path.basename(path)), save_img)"
   ]
  }
 ],
 "metadata": {
  "kernelspec": {
   "display_name": "dogbreed",
   "language": "python",
   "name": "python3"
  },
  "language_info": {
   "codemirror_mode": {
    "name": "ipython",
    "version": 3
   },
   "file_extension": ".py",
   "mimetype": "text/x-python",
   "name": "python",
   "nbconvert_exporter": "python",
   "pygments_lexer": "ipython3",
   "version": "3.10.18"
  }
 },
 "nbformat": 4,
 "nbformat_minor": 5
}
