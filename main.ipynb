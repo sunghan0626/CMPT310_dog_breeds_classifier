{
 "cells": [
  {
   "cell_type": "code",
   "execution_count": 1,
   "id": "e17025e8",
   "metadata": {},
   "outputs": [],
   "source": [
    "import os\n",
    "import cv2\n",
    "import numpy as np\n",
    "from glob import glob\n",
    "from tqdm.notebook import tqdm"
   ]
  },
  {
   "cell_type": "code",
   "execution_count": 2,
   "id": "3c37a8dd",
   "metadata": {},
   "outputs": [],
   "source": [
    "DATA_DIR = \"data/stanford_dogs/Images\"\n",
    "OUTPUT_DIR = \"data/Processed\"\n",
    "IMG_SIZE = (224, 224)"
   ]
  },
  {
   "cell_type": "code",
   "execution_count": 3,
   "id": "bd8d658d",
   "metadata": {},
   "outputs": [
    {
     "name": "stdout",
     "output_type": "stream",
     "text": [
      "Found 20580 images\n"
     ]
    }
   ],
   "source": [
    "def load_dataset(data_dir):\n",
    "    all_paths = glob(os.path.join(data_dir, \"*\", \"*.jpg\"))\n",
    "    all_labels = [os.path.basename(os.path.dirname(p)) for p in all_paths]\n",
    "    return all_paths, all_labels\n",
    "\n",
    "image_paths, labels = load_dataset(DATA_DIR)\n",
    "print(f\"Found {len(image_paths)} images\")"
   ]
  },
  {
   "cell_type": "code",
   "execution_count": 4,
   "id": "80f23cb3",
   "metadata": {},
   "outputs": [
    {
     "data": {
      "application/vnd.jupyter.widget-view+json": {
       "model_id": "a410bc85ad3a47b08effd3eb89c1711d",
       "version_major": 2,
       "version_minor": 0
      },
      "text/plain": [
       "  0%|          | 0/20580 [00:00<?, ?it/s]"
      ]
     },
     "metadata": {},
     "output_type": "display_data"
    }
   ],
   "source": [
    "os.makedirs(OUTPUT_DIR, exist_ok=True)\n",
    "\n",
    "for path, label in tqdm(zip(image_paths, labels), total=len(image_paths)):\n",
    "    image = cv2.imread(path)\n",
    "    if image is None:\n",
    "        continue\n",
    "    \n",
    "    # image = resize_image(image)\n",
    "    # image = normalize_image(image)\n",
    "    \n",
    "    save_path = os.path.join(OUTPUT_DIR, label)\n",
    "    os.makedirs(save_path, exist_ok=True)\n",
    "    filename = os.path.basename(path)\n",
    "    \n",
    "    save_img = (np.clip(image, 0, 1) * 255).astype(np.uint8)\n",
    "    cv2.imwrite(os.path.join(save_path, filename), save_img)"
   ]
  }
 ],
 "metadata": {
  "kernelspec": {
   "display_name": "dogbreed",
   "language": "python",
   "name": "python3"
  },
  "language_info": {
   "codemirror_mode": {
    "name": "ipython",
    "version": 3
   },
   "file_extension": ".py",
   "mimetype": "text/x-python",
   "name": "python",
   "nbconvert_exporter": "python",
   "pygments_lexer": "ipython3",
   "version": "3.10.18"
  }
 },
 "nbformat": 4,
 "nbformat_minor": 5
}
